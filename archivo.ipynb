{
 "cells": [
  {
   "cell_type": "markdown",
   "metadata": {},
   "source": [
    "### Preprocesado de datos"
   ]
  },
  {
   "cell_type": "code",
   "execution_count": null,
   "metadata": {},
   "outputs": [],
   "source": [
    "import pandas as pd\n",
    "\n",
    "# Datos obtenidos de https://databank.worldbank.org/reports.aspx?source=world-development-indicators#\n",
    "with open (\"datos.csv\", \"r\") as f:\n",
    "    lineas = f.read().splitlines()\n",
    "    rangoDeLineas = lineas[:85]\n",
    "\n",
    "with open(\"preprocesado.csv\", \"w\") as f:\n",
    "    for linea in rangoDeLineas:\n",
    "        f.write(linea + \"\\n\")\n",
    "\n",
    "#Leer datos\n",
    "df = pd.read_csv(\"preprocesado.csv\", sep =\",\")\n",
    "#Limpieza de datos\n",
    "df = df.drop(columns=[\"Series Code\", \"Country Code\"], errors=\"ignore\")\n",
    "df.columns = ['País', 'Indicador', '2010', '2011', '2012', '2013', '2014', '2015', '2016', '2017', '2018', '2019', '2020', '2021', '2022']\n",
    "df"
   ]
  },
  {
   "cell_type": "code",
   "execution_count": null,
   "metadata": {},
   "outputs": [],
   "source": [
    "cantidadIndicadores = len(df['Indicador'].unique()) # cantidad de indicadores\n",
    "df['Indicador'].unique() # imprime los indicadores\n",
    "\n",
    "''' TAREAS PARA EL PROYECTO:\n",
    "Un DataFrame por Indicador:\n",
    "Bryan\n",
    "\t'Access to electricity (% of population)',\n",
    "    'Adjusted net national income per capita (current US$)'\n",
    "Jaime\n",
    "\t'Current health expenditure per capita (current US$)',\n",
    "\t'Employment to population ratio, 15+, total (%) (national estimate)',\n",
    "Nery\n",
    "\t'GDP per capita (current US$)',\n",
    "\t'Industry (including construction), value added (% of GDP)',\n",
    "Maria Jose\n",
    "\t'Labor force with advanced education (% of total working-age population with advanced education)',\n",
    "\t'Labor force, total', \n",
    "\t'Life expectancy at birth, total (years)',\n",
    "Karen\n",
    "\t'Net migration',\n",
    "\t'People using at least basic sanitation services (% of population)',\n",
    "\t'Population density (people per sq. km of land area)'\n",
    "\n",
    "2. HACER LOS SIGUIENTES GRAFICOS PARA CADA INDICADOR:\n",
    "1. Barras\n",
    "2. \n",
    "'''"
   ]
  },
  {
   "cell_type": "markdown",
   "metadata": {},
   "source": [
    "### Bryan"
   ]
  },
  {
   "cell_type": "code",
   "execution_count": null,
   "metadata": {},
   "outputs": [],
   "source": []
  },
  {
   "cell_type": "code",
   "execution_count": null,
   "metadata": {},
   "outputs": [],
   "source": []
  },
  {
   "cell_type": "code",
   "execution_count": null,
   "metadata": {},
   "outputs": [],
   "source": []
  },
  {
   "cell_type": "markdown",
   "metadata": {},
   "source": [
    "### Jaime"
   ]
  },
  {
   "cell_type": "code",
   "execution_count": null,
   "metadata": {},
   "outputs": [],
   "source": []
  },
  {
   "cell_type": "code",
   "execution_count": null,
   "metadata": {},
   "outputs": [],
   "source": []
  },
  {
   "cell_type": "code",
   "execution_count": null,
   "metadata": {},
   "outputs": [],
   "source": []
  },
  {
   "cell_type": "markdown",
   "metadata": {},
   "source": [
    "### Nery"
   ]
  },
  {
   "cell_type": "code",
   "execution_count": null,
   "metadata": {},
   "outputs": [],
   "source": []
  },
  {
   "cell_type": "code",
   "execution_count": null,
   "metadata": {},
   "outputs": [],
   "source": []
  },
  {
   "cell_type": "code",
   "execution_count": null,
   "metadata": {},
   "outputs": [],
   "source": []
  },
  {
   "cell_type": "markdown",
   "metadata": {},
   "source": [
    "### Maria Jose"
   ]
  },
  {
   "cell_type": "code",
   "execution_count": null,
   "metadata": {},
   "outputs": [],
   "source": []
  },
  {
   "cell_type": "code",
   "execution_count": null,
   "metadata": {},
   "outputs": [],
   "source": []
  },
  {
   "cell_type": "code",
   "execution_count": null,
   "metadata": {},
   "outputs": [],
   "source": []
  },
  {
   "cell_type": "markdown",
   "metadata": {},
   "source": [
    "### Karen\n",
    "- Indicador: 'Net migration'"
   ]
  },
  {
   "cell_type": "code",
   "execution_count": null,
   "metadata": {},
   "outputs": [
    {
     "ename": "NameError",
     "evalue": "name 'df' is not defined",
     "output_type": "error",
     "traceback": [
      "\u001b[1;31m---------------------------------------------------------------------------\u001b[0m",
      "\u001b[1;31mNameError\u001b[0m                                 Traceback (most recent call last)",
      "Cell \u001b[1;32mIn[1], line 1\u001b[0m\n\u001b[1;32m----> 1\u001b[0m dfNetMigration \u001b[38;5;241m=\u001b[39m \u001b[43mdf\u001b[49m\u001b[38;5;241m.\u001b[39mgroupby([\u001b[38;5;124m'\u001b[39m\u001b[38;5;124mProvincia\u001b[39m\u001b[38;5;124m'\u001b[39m, \u001b[38;5;124m'\u001b[39m\u001b[38;5;124mComuna\u001b[39m\u001b[38;5;124m'\u001b[39m])\u001b[38;5;241m.\u001b[39msum()\n\u001b[0;32m      2\u001b[0m dfNetMigration\u001b[38;5;241m.\u001b[39mreset_index(inplace\u001b[38;5;241m=\u001b[39m\u001b[38;5;28;01mTrue\u001b[39;00m)\n\u001b[0;32m      3\u001b[0m dfNetMigration\u001b[38;5;241m.\u001b[39mcolumns \u001b[38;5;241m=\u001b[39m [\u001b[38;5;124m'\u001b[39m\u001b[38;5;124mProvincia\u001b[39m\u001b[38;5;124m'\u001b[39m, \u001b[38;5;124m'\u001b[39m\u001b[38;5;124mComuna\u001b[39m\u001b[38;5;124m'\u001b[39m, \u001b[38;5;124m'\u001b[39m\u001b[38;5;124mNetMigration\u001b[39m\u001b[38;5;124m'\u001b[39m]\n",
      "\u001b[1;31mNameError\u001b[0m: name 'df' is not defined"
     ]
    }
   ],
   "source": [
    "dfNetMigration = df.groupby(['Provincia', 'Comuna']).sum()\n",
    "dfNetMigration.reset_index(inplace=True)\n",
    "dfNetMigration.columns = ['Provincia', 'Comuna', 'NetMigration']\n",
    "dfNetMigration = dfNetMigration.sort_values(by=['NetMigration'], ascending=False)\n",
    "dfNetMigration.head()\n"
   ]
  },
  {
   "cell_type": "markdown",
   "metadata": {},
   "source": [
    "- \t'People using at least basic sanitation services (% of population)'"
   ]
  },
  {
   "cell_type": "code",
   "execution_count": null,
   "metadata": {},
   "outputs": [],
   "source": []
  },
  {
   "cell_type": "markdown",
   "metadata": {},
   "source": [
    "- 'Population density (people per sq. km of land area)'"
   ]
  },
  {
   "cell_type": "code",
   "execution_count": null,
   "metadata": {},
   "outputs": [],
   "source": []
  }
 ],
 "metadata": {
  "kernelspec": {
   "display_name": ".venv",
   "language": "python",
   "name": "python3"
  },
  "language_info": {
   "codemirror_mode": {
    "name": "ipython",
    "version": 3
   },
   "file_extension": ".py",
   "mimetype": "text/x-python",
   "name": "python",
   "nbconvert_exporter": "python",
   "pygments_lexer": "ipython3",
   "version": "3.13.0"
  }
 },
 "nbformat": 4,
 "nbformat_minor": 2
}
