{
 "cells": [
  {
   "cell_type": "code",
   "execution_count": null,
   "metadata": {},
   "outputs": [],
   "source": [
    "import pandas as pd\n",
    "# Datos obtenidos de https://databank.worldbank.org/reports.aspx?source=world-development-indicators#\n",
    "with open (\"datos.csv\", \"r\") as f:\n",
    "    lineas = f.read().splitlines()\n",
    "    rangoDeLineas = lineas[:225]\n",
    "\n",
    "with open(\"preprocesado.csv\", \"w\") as f:\n",
    "    for linea in rangoDeLineas:\n",
    "        f.write(linea + \"\\n\")\n",
    "\n",
    "        \n",
    "\n",
    "df = pd.read_csv(\"preprocesado.csv\", sep =\",\")\n",
    "#Limpieza de datos\n",
    "df = df.drop(columns=[\"Series Code\", \"Country Code\"], errors=\"ignore\")\n",
    "df.columns = ['País', 'Indicador', '2010', '2011', '2012', '2013', '2014', '2015', '2016', '2017', '2018', '2019', '2020']\n",
    "df"
   ]
  }
 ],
 "metadata": {
  "kernelspec": {
   "display_name": "Python 3",
   "language": "python",
   "name": "python3"
  },
  "language_info": {
   "codemirror_mode": {
    "name": "ipython",
    "version": 3
   },
   "file_extension": ".py",
   "mimetype": "text/x-python",
   "name": "python",
   "nbconvert_exporter": "python",
   "pygments_lexer": "ipython3",
   "version": "3.12.2"
  }
 },
 "nbformat": 4,
 "nbformat_minor": 2
}
